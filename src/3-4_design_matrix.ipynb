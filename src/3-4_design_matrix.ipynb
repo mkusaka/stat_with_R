{
 "cells": [
  {
   "cell_type": "code",
   "execution_count": 1,
   "metadata": {},
   "outputs": [
    {
     "name": "stderr",
     "output_type": "stream",
     "text": [
      "Loading required package: StanHeaders\n",
      "Loading required package: ggplot2\n",
      "rstan (Version 2.19.2, GitRev: 2e1f913d3ca3)\n",
      "For execution on a local, multicore CPU with excess RAM we recommend calling\n",
      "options(mc.cores = parallel::detectCores()).\n",
      "To avoid recompilation of unchanged Stan programs, we recommend calling\n",
      "rstan_options(auto_write = TRUE)\n",
      "This is bayesplot version 1.7.0\n",
      "- Online documentation and vignettes at mc-stan.org/bayesplot\n",
      "- bayesplot theme set to bayesplot::theme_default()\n",
      "   * Does _not_ affect other ggplot2 plots\n",
      "   * See ?bayesplot_theme_set for details on theme setting\n"
     ]
    }
   ],
   "source": [
    "library(rstan)\n",
    "library(bayesplot)\n",
    "\n",
    "rstan_options(auto_write = TRUE)\n",
    "options(mc.cores = parallel::detectCores())\n",
    "file_beer_sales_2 <- read.csv(\"https://raw.githubusercontent.com/logics-of-blue/book-r-stan-bayesian-model-intro/master/book-data/3-2-1-beer-sales-2.csv\")\n",
    "sample_size <- nrow(file_beer_sales_2)"
   ]
  },
  {
   "cell_type": "code",
   "execution_count": 2,
   "metadata": {},
   "outputs": [],
   "source": [
    "formula_lm <- formula(sales ~ temperature)\n",
    "X <- model.matrix(formula_lm, file_beer_sales_2)"
   ]
  },
  {
   "cell_type": "code",
   "execution_count": 3,
   "metadata": {},
   "outputs": [
    {
     "data": {
      "text/html": [
       "<table>\n",
       "<caption>A matrix: 5 × 2 of type dbl</caption>\n",
       "<thead>\n",
       "\t<tr><th scope=col>(Intercept)</th><th scope=col>temperature</th></tr>\n",
       "</thead>\n",
       "<tbody>\n",
       "\t<tr><td>1</td><td>13.7</td></tr>\n",
       "\t<tr><td>1</td><td>24.0</td></tr>\n",
       "\t<tr><td>1</td><td>21.5</td></tr>\n",
       "\t<tr><td>1</td><td>13.4</td></tr>\n",
       "\t<tr><td>1</td><td>28.9</td></tr>\n",
       "</tbody>\n",
       "</table>\n"
      ],
      "text/latex": [
       "A matrix: 5 × 2 of type dbl\n",
       "\\begin{tabular}{r|ll}\n",
       " (Intercept) & temperature\\\\\n",
       "\\hline\n",
       "\t 1 & 13.7\\\\\n",
       "\t 1 & 24.0\\\\\n",
       "\t 1 & 21.5\\\\\n",
       "\t 1 & 13.4\\\\\n",
       "\t 1 & 28.9\\\\\n",
       "\\end{tabular}\n"
      ],
      "text/markdown": [
       "\n",
       "A matrix: 5 × 2 of type dbl\n",
       "\n",
       "| (Intercept) | temperature |\n",
       "|---|---|\n",
       "| 1 | 13.7 |\n",
       "| 1 | 24.0 |\n",
       "| 1 | 21.5 |\n",
       "| 1 | 13.4 |\n",
       "| 1 | 28.9 |\n",
       "\n"
      ],
      "text/plain": [
       "  (Intercept) temperature\n",
       "1 1           13.7       \n",
       "2 1           24.0       \n",
       "3 1           21.5       \n",
       "4 1           13.4       \n",
       "5 1           28.9       "
      ]
     },
     "metadata": {},
     "output_type": "display_data"
    }
   ],
   "source": [
    "head(X, n=5)"
   ]
  },
  {
   "cell_type": "code",
   "execution_count": 5,
   "metadata": {},
   "outputs": [],
   "source": [
    "N <- nrow(file_beer_sales_2)\n",
    "K <- 2\n",
    "Y <- file_beer_sales_2$sales\n",
    "\n",
    "data_list_design <- list(N = N, K = K, Y = Y, X = X)\n",
    "\n",
    "mcmc_result_design <- stan(\n",
    "    file = \"3-4-1-lm-design-matrix.stan\",\n",
    "    data = data_list_design,\n",
    "    seed = 1\n",
    ")"
   ]
  },
  {
   "cell_type": "code",
   "execution_count": 6,
   "metadata": {},
   "outputs": [
    {
     "name": "stdout",
     "output_type": "stream",
     "text": [
      "Inference for Stan model: 3-4-1-lm-design-matrix.\n",
      "4 chains, each with iter=2000; warmup=1000; thin=1; \n",
      "post-warmup draws per chain=1000, total post-warmup draws=4000.\n",
      "\n",
      "         mean se_mean   sd    2.5%     50%   97.5% n_eff Rhat\n",
      "b[1]    21.24    0.15 5.74    9.91   21.32   32.16  1508    1\n",
      "b[2]     2.46    0.01 0.28    1.93    2.46    3.01  1528    1\n",
      "sigma   17.10    0.03 1.28   14.88   17.02   19.83  1997    1\n",
      "lp__  -330.17    0.03 1.22 -333.45 -329.87 -328.74  1672    1\n",
      "\n",
      "Samples were drawn using NUTS(diag_e) at Thu Jul 25 15:35:20 2019.\n",
      "For each parameter, n_eff is a crude measure of effective sample size,\n",
      "and Rhat is the potential scale reduction factor on split chains (at \n",
      "convergence, Rhat=1).\n"
     ]
    }
   ],
   "source": [
    "print(mcmc_result_design, probs = c(0.025, 0.5, 0.975))"
   ]
  },
  {
   "cell_type": "code",
   "execution_count": null,
   "metadata": {},
   "outputs": [],
   "source": []
  }
 ],
 "metadata": {
  "kernelspec": {
   "display_name": "R",
   "language": "R",
   "name": "ir"
  },
  "language_info": {
   "codemirror_mode": "r",
   "file_extension": ".r",
   "mimetype": "text/x-r-source",
   "name": "R",
   "pygments_lexer": "r",
   "version": "3.5.1"
  }
 },
 "nbformat": 4,
 "nbformat_minor": 2
}
