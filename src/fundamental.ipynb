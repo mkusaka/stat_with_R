{
 "cells": [
  {
   "cell_type": "code",
   "execution_count": 1,
   "metadata": {},
   "outputs": [
    {
     "data": {
      "text/html": [
       "8"
      ],
      "text/latex": [
       "8"
      ],
      "text/markdown": [
       "8"
      ],
      "text/plain": [
       "[1] 8"
      ]
     },
     "metadata": {},
     "output_type": "display_data"
    }
   ],
   "source": [
    "3 + 5"
   ]
  },
  {
   "cell_type": "code",
   "execution_count": 2,
   "metadata": {},
   "outputs": [
    {
     "data": {
      "text/html": [
       "7"
      ],
      "text/latex": [
       "7"
      ],
      "text/markdown": [
       "7"
      ],
      "text/plain": [
       "[1] 7"
      ]
     },
     "metadata": {},
     "output_type": "display_data"
    }
   ],
   "source": [
    "10 - 3"
   ]
  },
  {
   "cell_type": "code",
   "execution_count": 3,
   "metadata": {},
   "outputs": [
    {
     "data": {
      "text/html": [
       "4"
      ],
      "text/latex": [
       "4"
      ],
      "text/markdown": [
       "4"
      ],
      "text/plain": [
       "[1] 4"
      ]
     },
     "metadata": {},
     "output_type": "display_data"
    }
   ],
   "source": [
    "sqrt(16)"
   ]
  },
  {
   "cell_type": "code",
   "execution_count": 4,
   "metadata": {},
   "outputs": [
    {
     "data": {
      "text/html": [
       "0.301029995663981"
      ],
      "text/latex": [
       "0.301029995663981"
      ],
      "text/markdown": [
       "0.301029995663981"
      ],
      "text/plain": [
       "[1] 0.30103"
      ]
     },
     "metadata": {},
     "output_type": "display_data"
    }
   ],
   "source": [
    "log(2, base = 10)"
   ]
  },
  {
   "cell_type": "code",
   "execution_count": 5,
   "metadata": {},
   "outputs": [
    {
     "data": {
      "text/html": [
       "'Sun Feb 24 04:03:55 2019'"
      ],
      "text/latex": [
       "'Sun Feb 24 04:03:55 2019'"
      ],
      "text/markdown": [
       "'Sun Feb 24 04:03:55 2019'"
      ],
      "text/plain": [
       "[1] \"Sun Feb 24 04:03:55 2019\""
      ]
     },
     "metadata": {},
     "output_type": "display_data"
    }
   ],
   "source": [
    "date()"
   ]
  },
  {
   "cell_type": "code",
   "execution_count": 6,
   "metadata": {},
   "outputs": [
    {
     "data": {
      "text/html": [
       "'Sun Feb 24 04:03:55 2019'"
      ],
      "text/latex": [
       "'Sun Feb 24 04:03:55 2019'"
      ],
      "text/markdown": [
       "'Sun Feb 24 04:03:55 2019'"
      ],
      "text/plain": [
       "[1] \"Sun Feb 24 04:03:55 2019\""
      ]
     },
     "metadata": {},
     "output_type": "display_data"
    }
   ],
   "source": [
    "date()"
   ]
  },
  {
   "cell_type": "code",
   "execution_count": 7,
   "metadata": {},
   "outputs": [
    {
     "data": {
      "text/plain": [
       "   Min. 1st Qu.  Median    Mean 3rd Qu.    Max. \n",
       "  173.0   175.0   179.0   179.4   181.5   192.0 "
      ]
     },
     "metadata": {},
     "output_type": "display_data"
    }
   ],
   "source": [
    "summary(c(173, 178, 180, 183, 182, 174, 179, 179, 174, 192))"
   ]
  },
  {
   "cell_type": "code",
   "execution_count": 8,
   "metadata": {},
   "outputs": [],
   "source": [
    "heights <- c(173, 178, 180, 183, 182, 174, 179, 179, 174, 192)"
   ]
  },
  {
   "cell_type": "code",
   "execution_count": 9,
   "metadata": {},
   "outputs": [
    {
     "data": {
      "text/html": [
       "<ol class=list-inline>\n",
       "\t<li>173</li>\n",
       "\t<li>178</li>\n",
       "\t<li>180</li>\n",
       "\t<li>183</li>\n",
       "\t<li>182</li>\n",
       "\t<li>174</li>\n",
       "\t<li>179</li>\n",
       "\t<li>179</li>\n",
       "\t<li>174</li>\n",
       "\t<li>192</li>\n",
       "</ol>\n"
      ],
      "text/latex": [
       "\\begin{enumerate*}\n",
       "\\item 173\n",
       "\\item 178\n",
       "\\item 180\n",
       "\\item 183\n",
       "\\item 182\n",
       "\\item 174\n",
       "\\item 179\n",
       "\\item 179\n",
       "\\item 174\n",
       "\\item 192\n",
       "\\end{enumerate*}\n"
      ],
      "text/markdown": [
       "1. 173\n",
       "2. 178\n",
       "3. 180\n",
       "4. 183\n",
       "5. 182\n",
       "6. 174\n",
       "7. 179\n",
       "8. 179\n",
       "9. 174\n",
       "10. 192\n",
       "\n",
       "\n"
      ],
      "text/plain": [
       " [1] 173 178 180 183 182 174 179 179 174 192"
      ]
     },
     "metadata": {},
     "output_type": "display_data"
    }
   ],
   "source": [
    "heights"
   ]
  },
  {
   "cell_type": "code",
   "execution_count": 10,
   "metadata": {},
   "outputs": [],
   "source": [
    "hawks <-  matrix(c(173, 178, 180, 183, 182, 174, 179, 179, 174, 192, 1700, 1400, 9000, 5000, 3000, 120000,90, 2100, 1000, 25000), 10, 2)"
   ]
  },
  {
   "cell_type": "code",
   "execution_count": 11,
   "metadata": {},
   "outputs": [
    {
     "data": {
      "text/html": [
       "<table>\n",
       "<tbody>\n",
       "\t<tr><td>173   </td><td>  1700</td></tr>\n",
       "\t<tr><td>178   </td><td>  1400</td></tr>\n",
       "\t<tr><td>180   </td><td>  9000</td></tr>\n",
       "\t<tr><td>183   </td><td>  5000</td></tr>\n",
       "\t<tr><td>182   </td><td>  3000</td></tr>\n",
       "\t<tr><td>174   </td><td>120000</td></tr>\n",
       "\t<tr><td>179   </td><td>    90</td></tr>\n",
       "\t<tr><td>179   </td><td>  2100</td></tr>\n",
       "\t<tr><td>174   </td><td>  1000</td></tr>\n",
       "\t<tr><td>192   </td><td> 25000</td></tr>\n",
       "</tbody>\n",
       "</table>\n"
      ],
      "text/latex": [
       "\\begin{tabular}{ll}\n",
       "\t 173    &   1700\\\\\n",
       "\t 178    &   1400\\\\\n",
       "\t 180    &   9000\\\\\n",
       "\t 183    &   5000\\\\\n",
       "\t 182    &   3000\\\\\n",
       "\t 174    & 120000\\\\\n",
       "\t 179    &     90\\\\\n",
       "\t 179    &   2100\\\\\n",
       "\t 174    &   1000\\\\\n",
       "\t 192    &  25000\\\\\n",
       "\\end{tabular}\n"
      ],
      "text/markdown": [
       "\n",
       "| 173    |   1700 |\n",
       "| 178    |   1400 |\n",
       "| 180    |   9000 |\n",
       "| 183    |   5000 |\n",
       "| 182    |   3000 |\n",
       "| 174    | 120000 |\n",
       "| 179    |     90 |\n",
       "| 179    |   2100 |\n",
       "| 174    |   1000 |\n",
       "| 192    |  25000 |\n",
       "\n"
      ],
      "text/plain": [
       "      [,1] [,2]  \n",
       " [1,] 173    1700\n",
       " [2,] 178    1400\n",
       " [3,] 180    9000\n",
       " [4,] 183    5000\n",
       " [5,] 182    3000\n",
       " [6,] 174  120000\n",
       " [7,] 179      90\n",
       " [8,] 179    2100\n",
       " [9,] 174    1000\n",
       "[10,] 192   25000"
      ]
     },
     "metadata": {},
     "output_type": "display_data"
    }
   ],
   "source": [
    "hawks"
   ]
  },
  {
   "cell_type": "code",
   "execution_count": 12,
   "metadata": {},
   "outputs": [
    {
     "name": "stdout",
     "output_type": "stream",
     "text": [
      "\n",
      "This software is distributed under the terms of the GNU General\n",
      "Public License, either Version 2, June 1991 or Version 3, June 2007.\n",
      "The terms of version 2 of the license are in a file called COPYING\n",
      "which you should have received with\n",
      "this software and which can be displayed by RShowDoc(\"COPYING\").\n",
      "Version 3 of the license can be displayed by RShowDoc(\"GPL-3\").\n",
      "\n",
      "Copies of both versions 2 and 3 of the license can be found\n",
      "at https://www.R-project.org/Licenses/.\n",
      "\n",
      "A small number of files (the API header files listed in\n",
      "R_DOC_DIR/COPYRIGHTS) are distributed under the\n",
      "LESSER GNU GENERAL PUBLIC LICENSE, version 2.1 or later.\n",
      "This can be displayed by RShowDoc(\"LGPL-2.1\"),\n",
      "or obtained at the URI given.\n",
      "Version 3 of the license can be displayed by RShowDoc(\"LGPL-3\").\n",
      "\n",
      "'Share and Enjoy.'\n",
      "\n"
     ]
    }
   ],
   "source": [
    "license()"
   ]
  },
  {
   "cell_type": "code",
   "execution_count": 13,
   "metadata": {},
   "outputs": [],
   "source": [
    "demo()"
   ]
  },
  {
   "cell_type": "code",
   "execution_count": 14,
   "metadata": {},
   "outputs": [
    {
     "name": "stderr",
     "output_type": "stream",
     "text": [
      "Warning message in matrix(c(173, 178, 180, 183, 182, 174, 179, 179, 174, 192, 1700, :\n",
      "“data length [20] is not a sub-multiple or multiple of the number of columns [3]”"
     ]
    },
    {
     "data": {
      "text/html": [
       "<table>\n",
       "<tbody>\n",
       "\t<tr><td>173   </td><td>  1700</td><td>173   </td></tr>\n",
       "\t<tr><td>178   </td><td>  1400</td><td>178   </td></tr>\n",
       "\t<tr><td>180   </td><td>  9000</td><td>180   </td></tr>\n",
       "\t<tr><td>183   </td><td>  5000</td><td>183   </td></tr>\n",
       "\t<tr><td>182   </td><td>  3000</td><td>182   </td></tr>\n",
       "\t<tr><td>174   </td><td>120000</td><td>174   </td></tr>\n",
       "\t<tr><td>179   </td><td>    90</td><td>179   </td></tr>\n",
       "\t<tr><td>179   </td><td>  2100</td><td>179   </td></tr>\n",
       "\t<tr><td>174   </td><td>  1000</td><td>174   </td></tr>\n",
       "\t<tr><td>192   </td><td> 25000</td><td>192   </td></tr>\n",
       "</tbody>\n",
       "</table>\n"
      ],
      "text/latex": [
       "\\begin{tabular}{lll}\n",
       "\t 173    &   1700 & 173   \\\\\n",
       "\t 178    &   1400 & 178   \\\\\n",
       "\t 180    &   9000 & 180   \\\\\n",
       "\t 183    &   5000 & 183   \\\\\n",
       "\t 182    &   3000 & 182   \\\\\n",
       "\t 174    & 120000 & 174   \\\\\n",
       "\t 179    &     90 & 179   \\\\\n",
       "\t 179    &   2100 & 179   \\\\\n",
       "\t 174    &   1000 & 174   \\\\\n",
       "\t 192    &  25000 & 192   \\\\\n",
       "\\end{tabular}\n"
      ],
      "text/markdown": [
       "\n",
       "| 173    |   1700 | 173    |\n",
       "| 178    |   1400 | 178    |\n",
       "| 180    |   9000 | 180    |\n",
       "| 183    |   5000 | 183    |\n",
       "| 182    |   3000 | 182    |\n",
       "| 174    | 120000 | 174    |\n",
       "| 179    |     90 | 179    |\n",
       "| 179    |   2100 | 179    |\n",
       "| 174    |   1000 | 174    |\n",
       "| 192    |  25000 | 192    |\n",
       "\n"
      ],
      "text/plain": [
       "      [,1] [,2]   [,3]\n",
       " [1,] 173    1700 173 \n",
       " [2,] 178    1400 178 \n",
       " [3,] 180    9000 180 \n",
       " [4,] 183    5000 183 \n",
       " [5,] 182    3000 182 \n",
       " [6,] 174  120000 174 \n",
       " [7,] 179      90 179 \n",
       " [8,] 179    2100 179 \n",
       " [9,] 174    1000 174 \n",
       "[10,] 192   25000 192 "
      ]
     },
     "metadata": {},
     "output_type": "display_data"
    }
   ],
   "source": [
    "matrix(c(173, 178, 180, 183, 182, 174, 179, 179, 174, 192, 1700, 1400, 9000, 5000, 3000, 120000,90, 2100, 1000, 25000), 10, 3)"
   ]
  },
  {
   "cell_type": "code",
   "execution_count": 15,
   "metadata": {},
   "outputs": [
    {
     "name": "stderr",
     "output_type": "stream",
     "text": [
      "Warning message in matrix(c(173, 178, 180, 183, 182, 174, 179, 179, 174, 192, 1700, :\n",
      "“data length [20] is not a sub-multiple or multiple of the number of rows [9]”"
     ]
    },
    {
     "data": {
      "text/html": [
       "<table>\n",
       "<tbody>\n",
       "\t<tr><td>173   </td><td>   192</td></tr>\n",
       "\t<tr><td>178   </td><td>  1700</td></tr>\n",
       "\t<tr><td>180   </td><td>  1400</td></tr>\n",
       "\t<tr><td>183   </td><td>  9000</td></tr>\n",
       "\t<tr><td>182   </td><td>  5000</td></tr>\n",
       "\t<tr><td>174   </td><td>  3000</td></tr>\n",
       "\t<tr><td>179   </td><td>120000</td></tr>\n",
       "\t<tr><td>179   </td><td>    90</td></tr>\n",
       "\t<tr><td>174   </td><td>  2100</td></tr>\n",
       "</tbody>\n",
       "</table>\n"
      ],
      "text/latex": [
       "\\begin{tabular}{ll}\n",
       "\t 173    &    192\\\\\n",
       "\t 178    &   1700\\\\\n",
       "\t 180    &   1400\\\\\n",
       "\t 183    &   9000\\\\\n",
       "\t 182    &   5000\\\\\n",
       "\t 174    &   3000\\\\\n",
       "\t 179    & 120000\\\\\n",
       "\t 179    &     90\\\\\n",
       "\t 174    &   2100\\\\\n",
       "\\end{tabular}\n"
      ],
      "text/markdown": [
       "\n",
       "| 173    |    192 |\n",
       "| 178    |   1700 |\n",
       "| 180    |   1400 |\n",
       "| 183    |   9000 |\n",
       "| 182    |   5000 |\n",
       "| 174    |   3000 |\n",
       "| 179    | 120000 |\n",
       "| 179    |     90 |\n",
       "| 174    |   2100 |\n",
       "\n"
      ],
      "text/plain": [
       "      [,1] [,2]  \n",
       " [1,] 173     192\n",
       " [2,] 178    1700\n",
       " [3,] 180    1400\n",
       " [4,] 183    9000\n",
       " [5,] 182    5000\n",
       " [6,] 174    3000\n",
       " [7,] 179  120000\n",
       " [8,] 179      90\n",
       " [9,] 174    2100"
      ]
     },
     "metadata": {},
     "output_type": "display_data"
    }
   ],
   "source": [
    "matrix(c(173, 178, 180, 183, 182, 174, 179, 179, 174, 192, 1700, 1400, 9000, 5000, 3000, 120000,90, 2100, 1000, 25000), 9, 2)"
   ]
  },
  {
   "cell_type": "code",
   "execution_count": 16,
   "metadata": {},
   "outputs": [
    {
     "name": "stderr",
     "output_type": "stream",
     "text": [
      "Warning message in matrix(c(173, 178, 180, 183, 182, 174, 179, 179, 174, 192, 1700, :\n",
      "“data length [20] is not a sub-multiple or multiple of the number of rows [11]”"
     ]
    },
    {
     "data": {
      "text/html": [
       "<table>\n",
       "<tbody>\n",
       "\t<tr><td> 173  </td><td>  1400</td><td> 180  </td></tr>\n",
       "\t<tr><td> 178  </td><td>  9000</td><td> 183  </td></tr>\n",
       "\t<tr><td> 180  </td><td>  5000</td><td> 182  </td></tr>\n",
       "\t<tr><td> 183  </td><td>  3000</td><td> 174  </td></tr>\n",
       "\t<tr><td> 182  </td><td>120000</td><td> 179  </td></tr>\n",
       "\t<tr><td> 174  </td><td>    90</td><td> 179  </td></tr>\n",
       "\t<tr><td> 179  </td><td>  2100</td><td> 174  </td></tr>\n",
       "\t<tr><td> 179  </td><td>  1000</td><td> 192  </td></tr>\n",
       "\t<tr><td> 174  </td><td> 25000</td><td>1700  </td></tr>\n",
       "\t<tr><td> 192  </td><td>   173</td><td>1400  </td></tr>\n",
       "\t<tr><td>1700  </td><td>   178</td><td>9000  </td></tr>\n",
       "</tbody>\n",
       "</table>\n"
      ],
      "text/latex": [
       "\\begin{tabular}{lll}\n",
       "\t  173   &   1400 &  180  \\\\\n",
       "\t  178   &   9000 &  183  \\\\\n",
       "\t  180   &   5000 &  182  \\\\\n",
       "\t  183   &   3000 &  174  \\\\\n",
       "\t  182   & 120000 &  179  \\\\\n",
       "\t  174   &     90 &  179  \\\\\n",
       "\t  179   &   2100 &  174  \\\\\n",
       "\t  179   &   1000 &  192  \\\\\n",
       "\t  174   &  25000 & 1700  \\\\\n",
       "\t  192   &    173 & 1400  \\\\\n",
       "\t 1700   &    178 & 9000  \\\\\n",
       "\\end{tabular}\n"
      ],
      "text/markdown": [
       "\n",
       "|  173   |   1400 |  180   |\n",
       "|  178   |   9000 |  183   |\n",
       "|  180   |   5000 |  182   |\n",
       "|  183   |   3000 |  174   |\n",
       "|  182   | 120000 |  179   |\n",
       "|  174   |     90 |  179   |\n",
       "|  179   |   2100 |  174   |\n",
       "|  179   |   1000 |  192   |\n",
       "|  174   |  25000 | 1700   |\n",
       "|  192   |    173 | 1400   |\n",
       "| 1700   |    178 | 9000   |\n",
       "\n"
      ],
      "text/plain": [
       "      [,1] [,2]   [,3]\n",
       " [1,]  173   1400  180\n",
       " [2,]  178   9000  183\n",
       " [3,]  180   5000  182\n",
       " [4,]  183   3000  174\n",
       " [5,]  182 120000  179\n",
       " [6,]  174     90  179\n",
       " [7,]  179   2100  174\n",
       " [8,]  179   1000  192\n",
       " [9,]  174  25000 1700\n",
       "[10,]  192    173 1400\n",
       "[11,] 1700    178 9000"
      ]
     },
     "metadata": {},
     "output_type": "display_data"
    }
   ],
   "source": [
    "matrix(c(173, 178, 180, 183, 182, 174, 179, 179, 174, 192, 1700, 1400, 9000, 5000, 3000, 120000,90, 2100, 1000, 25000), 11, 3)"
   ]
  },
  {
   "cell_type": "code",
   "execution_count": 17,
   "metadata": {},
   "outputs": [
    {
     "data": {
      "text/html": [
       "<table>\n",
       "<tbody>\n",
       "\t<tr><td>173</td></tr>\n",
       "\t<tr><td>178</td></tr>\n",
       "\t<tr><td>180</td></tr>\n",
       "\t<tr><td>183</td></tr>\n",
       "\t<tr><td>182</td></tr>\n",
       "\t<tr><td>174</td></tr>\n",
       "\t<tr><td>179</td></tr>\n",
       "\t<tr><td>179</td></tr>\n",
       "\t<tr><td>174</td></tr>\n",
       "\t<tr><td>192</td></tr>\n",
       "</tbody>\n",
       "</table>\n"
      ],
      "text/latex": [
       "\\begin{tabular}{l}\n",
       "\t 173\\\\\n",
       "\t 178\\\\\n",
       "\t 180\\\\\n",
       "\t 183\\\\\n",
       "\t 182\\\\\n",
       "\t 174\\\\\n",
       "\t 179\\\\\n",
       "\t 179\\\\\n",
       "\t 174\\\\\n",
       "\t 192\\\\\n",
       "\\end{tabular}\n"
      ],
      "text/markdown": [
       "\n",
       "| 173 |\n",
       "| 178 |\n",
       "| 180 |\n",
       "| 183 |\n",
       "| 182 |\n",
       "| 174 |\n",
       "| 179 |\n",
       "| 179 |\n",
       "| 174 |\n",
       "| 192 |\n",
       "\n"
      ],
      "text/plain": [
       "      [,1]\n",
       " [1,] 173 \n",
       " [2,] 178 \n",
       " [3,] 180 \n",
       " [4,] 183 \n",
       " [5,] 182 \n",
       " [6,] 174 \n",
       " [7,] 179 \n",
       " [8,] 179 \n",
       " [9,] 174 \n",
       "[10,] 192 "
      ]
     },
     "metadata": {},
     "output_type": "display_data"
    }
   ],
   "source": [
    "matrix(c(173, 178, 180, 183, 182, 174, 179, 179, 174, 192, 1700, 1400, 9000, 5000, 3000, 120000,90, 2100, 1000, 25000), 10, 1)"
   ]
  },
  {
   "cell_type": "code",
   "execution_count": null,
   "metadata": {},
   "outputs": [],
   "source": []
  }
 ],
 "metadata": {
  "kernelspec": {
   "display_name": "R",
   "language": "R",
   "name": "ir"
  },
  "language_info": {
   "codemirror_mode": "r",
   "file_extension": ".r",
   "mimetype": "text/x-r-source",
   "name": "R",
   "pygments_lexer": "r",
   "version": "3.5.1"
  }
 },
 "nbformat": 4,
 "nbformat_minor": 2
}
