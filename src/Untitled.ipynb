{
 "cells": [
  {
   "cell_type": "code",
   "execution_count": 1,
   "metadata": {},
   "outputs": [
    {
     "name": "stderr",
     "output_type": "stream",
     "text": [
      "Loading required package: StanHeaders\n",
      "Loading required package: ggplot2\n",
      "rstan (Version 2.19.2, GitRev: 2e1f913d3ca3)\n",
      "For execution on a local, multicore CPU with excess RAM we recommend calling\n",
      "options(mc.cores = parallel::detectCores()).\n",
      "To avoid recompilation of unchanged Stan programs, we recommend calling\n",
      "rstan_options(auto_write = TRUE)\n"
     ]
    },
    {
     "ename": "ERROR",
     "evalue": "Error in library(brms): there is no package called ‘brms’\n",
     "output_type": "error",
     "traceback": [
      "Error in library(brms): there is no package called ‘brms’\nTraceback:\n",
      "1. library(brms)",
      "2. stop(txt, domain = NA)"
     ]
    }
   ],
   "source": [
    "library(rstan)\n",
    "library(brms)\n",
    "\n",
    "rstan_options(auto_write = TRUE)\n",
    "options(mc.cores = parallel::detectCores())\n",
    "\n",
    "file_beer_sales_2 <- read.csv(\"https://raw.githubusercontent.com/logics-of-blue/book-r-stan-bayesian-model-intro/master/book-data/3-2-1-beer-sales-2.csv\")"
   ]
  },
  {
   "cell_type": "code",
   "execution_count": 3,
   "metadata": {},
   "outputs": [
    {
     "name": "stderr",
     "output_type": "stream",
     "text": [
      "also installing the dependencies ‘jomo’, ‘units’, ‘mvnfast’, ‘mitml’, ‘sf’, ‘bridgesampling’, ‘mice’, ‘spdep’\n",
      "\n",
      "Warning message in install.packages(\"brms\", dependencies = TRUE):\n",
      "“installation of package ‘units’ had non-zero exit status”Warning message in install.packages(\"brms\", dependencies = TRUE):\n",
      "“installation of package ‘sf’ had non-zero exit status”Warning message in install.packages(\"brms\", dependencies = TRUE):\n",
      "“installation of package ‘spdep’ had non-zero exit status”Updating HTML index of packages in '.Library'\n",
      "Making 'packages.html' ... done\n"
     ]
    }
   ],
   "source": [
    "install.packages(\"brms\", dependencies = TRUE)"
   ]
  },
  {
   "cell_type": "code",
   "execution_count": null,
   "metadata": {},
   "outputs": [],
   "source": []
  }
 ],
 "metadata": {
  "kernelspec": {
   "display_name": "R",
   "language": "R",
   "name": "ir"
  },
  "language_info": {
   "codemirror_mode": "r",
   "file_extension": ".r",
   "mimetype": "text/x-r-source",
   "name": "R",
   "pygments_lexer": "r",
   "version": "3.5.1"
  }
 },
 "nbformat": 4,
 "nbformat_minor": 2
}
